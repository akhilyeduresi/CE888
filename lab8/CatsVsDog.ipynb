{
 "cells": [
  {
   "cell_type": "markdown",
   "metadata": {},
   "source": [
    "##### The Dogs vs. Cats dataset that you’ll use isn’t packaged with Keras. It was made available by Kaggle as part of a computer-vision competition in late 2013, back when convnets weren’t mainstream. You can download the original dataset from www.kaggle.com/c/dogs-vs-cats/data (you’ll need to create a Kaggle account if you don’t already have one—don’t worry, the process is painless)."
   ]
  },
  {
   "cell_type": "markdown",
   "metadata": {},
   "source": [
    "Unsurprisingly, the dogs-versus-cats Kaggle competition in 2013 was won by entrants who used convnets. The best entries achieved up to 95% accuracy. In this example, you’ll get fairly close to this accuracy (in the next section), even though you’ll train\n",
    "your models on less than 10% of the data that was available to the competitors. This dataset contains 25,000 images of dogs and cats (12,500 from each class) and is 543 MB (compressed). After downloading and uncompressing it, you’ll create a new dataset containing three subsets: a training set with 1,000 samples of each class, a validation set with 500 samples of each class, and a test set with 500 samples of each class."
   ]
  },
  {
   "cell_type": "code",
   "execution_count": 4,
   "metadata": {},
   "outputs": [],
   "source": [
    "import os, shutil\n",
    "original_dataset_dir = 'G:\\Data\\Kaggle\\DogCatData'"
   ]
  },
  {
   "cell_type": "code",
   "execution_count": 6,
   "metadata": {},
   "outputs": [],
   "source": [
    "base_dir = 'G:\\Data\\cats_and_dogs_small'\n",
    "os.mkdir(base_dir)"
   ]
  },
  {
   "cell_type": "code",
   "execution_count": 7,
   "metadata": {},
   "outputs": [],
   "source": [
    "train_dir = os.path.join(base_dir, 'train')\n",
    "os.mkdir(train_dir)\n",
    "\n",
    "validation_dir = os.path.join(base_dir, 'validation')\n",
    "os.mkdir(validation_dir)\n",
    "\n",
    "test_dir = os.path.join(base_dir, 'test')\n",
    "os.mkdir(test_dir)\n",
    "\n",
    "train_cats_dir = os.path.join(train_dir, 'cats')\n",
    "os.mkdir(train_cats_dir)\n",
    "\n",
    "train_dogs_dir = os.path.join(train_dir, 'dogs')\n",
    "os.mkdir(train_dogs_dir)\n",
    "\n",
    "validation_cats_dir = os.path.join(validation_dir, 'cats')\n",
    "os.mkdir(validation_cats_dir)\n",
    "\n",
    "validation_dogs_dir = os.path.join(validation_dir, 'dogs')\n",
    "os.mkdir(validation_dogs_dir)\n",
    "\n",
    "test_cats_dir = os.path.join(test_dir, 'cats')\n",
    "os.mkdir(test_cats_dir)\n",
    "\n",
    "test_dogs_dir = os.path.join(test_dir, 'dogs')\n",
    "os.mkdir(test_dogs_dir)"
   ]
  },
  {
   "cell_type": "code",
   "execution_count": 8,
   "metadata": {},
   "outputs": [],
   "source": [
    "fnames = ['cat.{}.jpg'.format(i) for i in range(1000)]\n",
    "for fname in fnames:\n",
    "    src = os.path.join(original_dataset_dir, fname)\n",
    "    dst = os.path.join(train_cats_dir, fname)\n",
    "    #print(src,dst)\n",
    "    shutil.copyfile(src, dst)\n",
    "    \n",
    "fnames = ['cat.{}.jpg'.format(i) for i in range(1000, 1500)]\n",
    "for fname in fnames:\n",
    "    src = os.path.join(original_dataset_dir, fname)\n",
    "    dst = os.path.join(validation_cats_dir, fname)\n",
    "    shutil.copyfile(src, dst)\n",
    "\n",
    "fnames = ['cat.{}.jpg'.format(i) for i in range(1500, 2000)]\n",
    "for fname in fnames:\n",
    "    src = os.path.join(original_dataset_dir, fname)\n",
    "    dst = os.path.join(test_cats_dir, fname)\n",
    "    shutil.copyfile(src, dst)\n",
    "    \n",
    "fnames = ['dog.{}.jpg'.format(i) for i in range(1000)]\n",
    "for fname in fnames:\n",
    "    src = os.path.join(original_dataset_dir, fname)\n",
    "    dst = os.path.join(train_dogs_dir, fname)\n",
    "    shutil.copyfile(src, dst)\n",
    "\n",
    "fnames = ['dog.{}.jpg'.format(i) for i in range(1000, 1500)]\n",
    "for fname in fnames:\n",
    "    src = os.path.join(original_dataset_dir, fname)\n",
    "    dst = os.path.join(validation_dogs_dir, fname)\n",
    "    shutil.copyfile(src, dst)\n",
    "\n",
    "fnames = ['dog.{}.jpg'.format(i) for i in range(1500, 2000)]\n",
    "for fname in fnames:\n",
    "    src = os.path.join(original_dataset_dir, fname)\n",
    "    dst = os.path.join(test_dogs_dir, fname)\n",
    "    shutil.copyfile(src, dst)"
   ]
  },
  {
   "cell_type": "code",
   "execution_count": 9,
   "metadata": {},
   "outputs": [
    {
     "name": "stdout",
     "output_type": "stream",
     "text": [
      "total training cat images: 1000\n",
      "total training dog images: 1000\n",
      "total validation cat images: 500\n",
      "total validation dog images: 500\n",
      "total test cat images: 500\n",
      "total test dog images: 500\n"
     ]
    }
   ],
   "source": [
    "print('total training cat images:', len(os.listdir(train_cats_dir)))\n",
    "print('total training dog images:', len(os.listdir(train_dogs_dir)))\n",
    "print('total validation cat images:', len(os.listdir(validation_cats_dir)))\n",
    "\n",
    "print('total validation dog images:', len(os.listdir(validation_dogs_dir)))\n",
    "print('total test cat images:', len(os.listdir(test_cats_dir)))\n",
    "print('total test dog images:', len(os.listdir(test_dogs_dir)))\n"
   ]
  },
  {
   "cell_type": "code",
   "execution_count": 10,
   "metadata": {},
   "outputs": [
    {
     "name": "stderr",
     "output_type": "stream",
     "text": [
      "Using TensorFlow backend.\n"
     ]
    },
    {
     "name": "stdout",
     "output_type": "stream",
     "text": [
      "_________________________________________________________________\n",
      "Layer (type)                 Output Shape              Param #   \n",
      "=================================================================\n",
      "conv2d_1 (Conv2D)            (None, 148, 148, 32)      896       \n",
      "_________________________________________________________________\n",
      "max_pooling2d_1 (MaxPooling2 (None, 74, 74, 32)        0         \n",
      "_________________________________________________________________\n",
      "conv2d_2 (Conv2D)            (None, 72, 72, 64)        18496     \n",
      "_________________________________________________________________\n",
      "max_pooling2d_2 (MaxPooling2 (None, 36, 36, 64)        0         \n",
      "_________________________________________________________________\n",
      "conv2d_3 (Conv2D)            (None, 34, 34, 128)       73856     \n",
      "_________________________________________________________________\n",
      "max_pooling2d_3 (MaxPooling2 (None, 17, 17, 128)       0         \n",
      "_________________________________________________________________\n",
      "conv2d_4 (Conv2D)            (None, 15, 15, 128)       147584    \n",
      "_________________________________________________________________\n",
      "max_pooling2d_4 (MaxPooling2 (None, 7, 7, 128)         0         \n",
      "_________________________________________________________________\n",
      "flatten_1 (Flatten)          (None, 6272)              0         \n",
      "_________________________________________________________________\n",
      "dense_1 (Dense)              (None, 512)               3211776   \n",
      "_________________________________________________________________\n",
      "dense_2 (Dense)              (None, 1)                 513       \n",
      "=================================================================\n",
      "Total params: 3,453,121\n",
      "Trainable params: 3,453,121\n",
      "Non-trainable params: 0\n",
      "_________________________________________________________________\n"
     ]
    }
   ],
   "source": [
    "from keras import layers\n",
    "from keras import models\n",
    "\n",
    "model = models.Sequential()\n",
    "model.add(layers.Conv2D(32, (3, 3), activation='relu', input_shape=(150, 150, 3)))\n",
    "model.add(layers.MaxPooling2D((2, 2)))\n",
    "model.add(layers.Conv2D(64, (3, 3), activation='relu'))\n",
    "model.add(layers.MaxPooling2D((2, 2)))\n",
    "model.add(layers.Conv2D(128, (3, 3), activation='relu'))\n",
    "model.add(layers.MaxPooling2D((2, 2)))\n",
    "model.add(layers.Conv2D(128, (3, 3), activation='relu'))\n",
    "model.add(layers.MaxPooling2D((2, 2)))\n",
    "model.add(layers.Flatten())\n",
    "model.add(layers.Dense(512, activation='relu'))\n",
    "model.add(layers.Dense(1, activation='sigmoid'))\n",
    "model.summary()"
   ]
  },
  {
   "cell_type": "code",
   "execution_count": 12,
   "metadata": {},
   "outputs": [],
   "source": [
    "from keras import optimizers\n",
    "model.compile(loss='binary_crossentropy', \n",
    "              optimizer=optimizers.RMSprop(lr=1e-4),\n",
    "              metrics=['acc'])"
   ]
  },
  {
   "cell_type": "markdown",
   "metadata": {},
   "source": [
    "## Using ImageDataGenerator to read images from directories"
   ]
  },
  {
   "cell_type": "markdown",
   "metadata": {},
   "source": [
    "As you know by now, data should be formatted into appropriately preprocessed floatingpoint tensors before being fed\n",
    "into the network. Currently, the data sits on a drive as JPEG files, so the steps for getting it into the network\n",
    "are roughly as follows:\n",
    "    \n",
    "1. Read the picture files.\n",
    "2. Decode the JPEG content to RGB grids of pixels.\n",
    "3. Convert these into floating-point tensors.\n",
    "4. Rescale the pixel values (between 0 and 255) to the [0, 1] interval (as you know, neural networks prefer to deal with small input values).\n",
    "\n",
    "It may seem a bit daunting, but fortunately Keras has utilities to take care of these steps automatically. Keras has a module with image-processing helper tools, located at keras.preprocessing.image. In particular, it contains the class ImageDataGenerator,which lets you quickly set up Python generators that can automatically turn image files\n",
    "on disk into batches of preprocessed tensors."
   ]
  },
  {
   "cell_type": "code",
   "execution_count": 13,
   "metadata": {},
   "outputs": [
    {
     "name": "stdout",
     "output_type": "stream",
     "text": [
      "Found 2000 images belonging to 2 classes.\n",
      "Found 1000 images belonging to 2 classes.\n"
     ]
    }
   ],
   "source": [
    "from keras.preprocessing.image import ImageDataGenerator\n",
    "\n",
    "train_datagen = ImageDataGenerator(rescale=1./255)\n",
    "test_datagen = ImageDataGenerator(rescale=1./255)\n",
    "\n",
    "train_generator = train_datagen.flow_from_directory(train_dir,\n",
    "                                                    target_size=(150, 150), \n",
    "                                                    batch_size=20,\n",
    "                                                    class_mode='binary')\n",
    "\n",
    "validation_generator = test_datagen.flow_from_directory(validation_dir,\n",
    "                                                        target_size=(150, 150),\n",
    "                                                        batch_size=20,\n",
    "                                                        class_mode='binary')"
   ]
  },
  {
   "cell_type": "markdown",
   "metadata": {},
   "source": [
    "Let’s fit the model to the data using the `generator`. You do so using the `fit_generator` method, the equivalent of `fit` for\n",
    "data generators like this one. It expects as its first argument a Python generator that will yield batches of inputs and\n",
    "targets indefinitely,like this one does. Because the data is being generated endlessly, the Keras model needs to know how\n",
    "many samples to draw from the generator before declaring anepoch over. This is the role of the `steps_per_epoch` argument:\n",
    "after having drawn `steps_per_epoch` batches from the generator—that is, after having run for `steps_per_epoch` gradient descent steps—the fitting process will go to the next epoch. In this case, batches are 20 samples, so it will take 100 batches until \n",
    "you see your target of 2,000 samples.\n",
    "\n",
    "When using `fit_generator`, you can pass a `validation_data` argument, much as with the fit method. It’s important to note that \n",
    "this argument is allowed to be a data generator, but it could also be a tuple of Numpy arrays. If you pass a generator as `validation_data`, then this generator is expected to yield batches of validation data endlessly; thus you should also specify\n",
    "the `validation_steps` argument, which tells the process how many batches to draw from the validation generator for evaluation."
   ]
  },
  {
   "cell_type": "code",
   "execution_count": 14,
   "metadata": {},
   "outputs": [
    {
     "name": "stdout",
     "output_type": "stream",
     "text": [
      "Epoch 1/30\n",
      "100/100 [==============================] - 37s - loss: 0.6928 - acc: 0.5230 - val_loss: 0.6707 - val_acc: 0.6200\n",
      "Epoch 2/30\n",
      "100/100 [==============================] - 36s - loss: 0.6637 - acc: 0.5930 - val_loss: 0.6352 - val_acc: 0.6050\n",
      "Epoch 3/30\n",
      "100/100 [==============================] - 37s - loss: 0.6048 - acc: 0.6795 - val_loss: 0.7010 - val_acc: 0.5400\n",
      "Epoch 4/30\n",
      "100/100 [==============================] - 36s - loss: 0.5614 - acc: 0.7155 - val_loss: 0.6412 - val_acc: 0.6550\n",
      "Epoch 5/30\n",
      "100/100 [==============================] - 37s - loss: 0.5374 - acc: 0.7290 - val_loss: 0.5725 - val_acc: 0.6500\n",
      "Epoch 6/30\n",
      "100/100 [==============================] - 37s - loss: 0.5088 - acc: 0.7435 - val_loss: 0.5596 - val_acc: 0.6950\n",
      "Epoch 7/30\n",
      "100/100 [==============================] - 36s - loss: 0.4891 - acc: 0.7595 - val_loss: 0.5636 - val_acc: 0.6850\n",
      "Epoch 8/30\n",
      "100/100 [==============================] - 36s - loss: 0.4550 - acc: 0.7830 - val_loss: 0.6032 - val_acc: 0.6900\n",
      "Epoch 9/30\n",
      "100/100 [==============================] - 36s - loss: 0.4336 - acc: 0.8005 - val_loss: 0.6657 - val_acc: 0.6950\n",
      "Epoch 10/30\n",
      "100/100 [==============================] - 37s - loss: 0.4031 - acc: 0.8180 - val_loss: 0.6047 - val_acc: 0.6900\n",
      "Epoch 11/30\n",
      "100/100 [==============================] - 37s - loss: 0.3815 - acc: 0.8280 - val_loss: 0.5077 - val_acc: 0.7600\n",
      "Epoch 12/30\n",
      "100/100 [==============================] - 36s - loss: 0.3557 - acc: 0.8460 - val_loss: 0.4992 - val_acc: 0.7650\n",
      "Epoch 13/30\n",
      "100/100 [==============================] - 36s - loss: 0.3349 - acc: 0.8490 - val_loss: 0.7782 - val_acc: 0.7050\n",
      "Epoch 14/30\n",
      "100/100 [==============================] - 36s - loss: 0.3108 - acc: 0.8700 - val_loss: 0.5735 - val_acc: 0.7150\n",
      "Epoch 15/30\n",
      "100/100 [==============================] - 36s - loss: 0.2799 - acc: 0.8865 - val_loss: 0.6786 - val_acc: 0.6800\n",
      "Epoch 16/30\n",
      "100/100 [==============================] - 36s - loss: 0.2559 - acc: 0.8945 - val_loss: 0.5696 - val_acc: 0.6900\n",
      "Epoch 17/30\n",
      "100/100 [==============================] - 36s - loss: 0.2272 - acc: 0.9140 - val_loss: 0.7419 - val_acc: 0.6600\n",
      "Epoch 18/30\n",
      "100/100 [==============================] - 36s - loss: 0.2152 - acc: 0.9140 - val_loss: 0.6532 - val_acc: 0.7250\n",
      "Epoch 19/30\n",
      "100/100 [==============================] - 36s - loss: 0.1871 - acc: 0.9390 - val_loss: 0.7388 - val_acc: 0.7050\n",
      "Epoch 20/30\n",
      "100/100 [==============================] - 36s - loss: 0.1709 - acc: 0.9365 - val_loss: 0.6400 - val_acc: 0.7500\n",
      "Epoch 21/30\n",
      "100/100 [==============================] - 37s - loss: 0.1468 - acc: 0.9475 - val_loss: 0.7072 - val_acc: 0.7200\n",
      "Epoch 22/30\n",
      "100/100 [==============================] - 37s - loss: 0.1266 - acc: 0.9590 - val_loss: 0.8554 - val_acc: 0.6900\n",
      "Epoch 23/30\n",
      "100/100 [==============================] - 37s - loss: 0.1095 - acc: 0.9635 - val_loss: 1.0082 - val_acc: 0.7050\n",
      "Epoch 24/30\n",
      "100/100 [==============================] - 36s - loss: 0.0910 - acc: 0.9695 - val_loss: 0.9530 - val_acc: 0.6900\n",
      "Epoch 25/30\n",
      "100/100 [==============================] - 37s - loss: 0.0866 - acc: 0.9775 - val_loss: 0.8666 - val_acc: 0.7350\n",
      "Epoch 26/30\n",
      "100/100 [==============================] - 37s - loss: 0.0689 - acc: 0.9830 - val_loss: 1.1700 - val_acc: 0.7350\n",
      "Epoch 27/30\n",
      "100/100 [==============================] - 37s - loss: 0.0576 - acc: 0.9855 - val_loss: 0.8889 - val_acc: 0.7300\n",
      "Epoch 28/30\n",
      "100/100 [==============================] - 37s - loss: 0.0472 - acc: 0.9875 - val_loss: 1.1411 - val_acc: 0.7050\n",
      "Epoch 29/30\n",
      "100/100 [==============================] - 37s - loss: 0.0476 - acc: 0.9870 - val_loss: 1.4585 - val_acc: 0.7200\n",
      "Epoch 30/30\n",
      "100/100 [==============================] - 37s - loss: 0.0299 - acc: 0.9955 - val_loss: 1.2934 - val_acc: 0.6850\n"
     ]
    }
   ],
   "source": [
    "history = model.fit_generator(train_generator,\n",
    "                              steps_per_epoch=100,\n",
    "                              epochs=30,\n",
    "                              validation_data=validation_generator,\n",
    "                              validation_steps=10)"
   ]
  },
  {
   "cell_type": "code",
   "execution_count": 16,
   "metadata": {},
   "outputs": [],
   "source": [
    "model.save('cats_and_dogs_small_1.h5')"
   ]
  },
  {
   "cell_type": "code",
   "execution_count": 18,
   "metadata": {},
   "outputs": [
    {
     "data": {
      "image/png": "[encoded data removed]",
      "text/plain": [
       "<Figure size 432x288 with 1 Axes>"
      ]
     },
     "metadata": {},
     "output_type": "display_data"
    },
    {
     "data": {
      "image/png": "[encoded data removed]",
      "text/plain": [
       "<Figure size 432x288 with 1 Axes>"
      ]
     },
     "metadata": {},
     "output_type": "display_data"
    }
   ],
   "source": [
    "import matplotlib.pyplot as plt\n",
    "\n",
    "acc = history.history['acc']\n",
    "val_acc = history.history['val_acc']\n",
    "loss = history.history['loss']\n",
    "val_loss = history.history['val_loss']\n",
    "\n",
    "epochs = range(1, len(acc) + 1)\n",
    "\n",
    "plt.plot(epochs, acc, 'bo', label='Training acc')\n",
    "plt.plot(epochs, val_acc, 'b', label='Validation acc')\n",
    "plt.title('Training and validation accuracy')\n",
    "plt.legend()\n",
    "\n",
    "plt.figure()\n",
    "\n",
    "plt.plot(epochs, loss, 'bo', label='Training loss')\n",
    "plt.plot(epochs, val_loss, 'b', label='Validation loss')\n",
    "plt.title('Training and validation loss')\n",
    "plt.legend()\n",
    "\n",
    "plt.show()"
   ]
  },
  {
   "cell_type": "markdown",
   "metadata": {},
   "source": [
    "## Convolutional Networks with Dropout"
   ]
  },
  {
   "cell_type": "code",
   "execution_count": 20,
   "metadata": {},
   "outputs": [],
   "source": [
    "model = models.Sequential()\n",
    "model.add(layers.Conv2D(32, (3, 3), activation='relu',\n",
    "input_shape=(150, 150, 3)))\n",
    "model.add(layers.MaxPooling2D((2, 2)))\n",
    "model.add(layers.Conv2D(64, (3, 3), activation='relu'))\n",
    "model.add(layers.MaxPooling2D((2, 2)))\n",
    "model.add(layers.Conv2D(128, (3, 3), activation='relu'))\n",
    "model.add(layers.MaxPooling2D((2, 2)))\n",
    "model.add(layers.Conv2D(128, (3, 3), activation='relu'))\n",
    "model.add(layers.MaxPooling2D((2, 2)))\n",
    "model.add(layers.Flatten())\n",
    "model.add(layers.Dropout(0.5))\n",
    "model.add(layers.Dense(512, activation='relu'))\n",
    "model.add(layers.Dense(1, activation='sigmoid'))\n",
    "\n",
    "model.compile(loss='binary_crossentropy',\n",
    "              optimizer=optimizers.RMSprop(lr=1e-4),\n",
    "              metrics=['acc'])"
   ]
  },
  {
   "cell_type": "code",
   "execution_count": 22,
   "metadata": {},
   "outputs": [
    {
     "name": "stdout",
     "output_type": "stream",
     "text": [
      "Found 2000 images belonging to 2 classes.\n",
      "Found 1000 images belonging to 2 classes.\n",
      "Epoch 1/20\n",
      "100/100 [==============================] - 65s - loss: 0.6876 - acc: 0.5341 - val_loss: 0.6691 - val_acc: 0.5730\n",
      "Epoch 2/20\n",
      "100/100 [==============================] - 64s - loss: 0.6717 - acc: 0.5828 - val_loss: 0.6490 - val_acc: 0.5992\n",
      "Epoch 3/20\n",
      "100/100 [==============================] - 64s - loss: 0.6545 - acc: 0.6012 - val_loss: 0.6816 - val_acc: 0.5812\n",
      "Epoch 4/20\n",
      "100/100 [==============================] - 64s - loss: 0.6434 - acc: 0.6344 - val_loss: 0.6149 - val_acc: 0.6585\n",
      "Epoch 5/20\n",
      "100/100 [==============================] - 65s - loss: 0.6246 - acc: 0.6469 - val_loss: 0.5779 - val_acc: 0.6856\n",
      "Epoch 6/20\n",
      "100/100 [==============================] - 65s - loss: 0.5999 - acc: 0.6691 - val_loss: 0.5839 - val_acc: 0.6802\n",
      "Epoch 7/20\n",
      "100/100 [==============================] - 65s - loss: 0.5870 - acc: 0.6822 - val_loss: 0.5655 - val_acc: 0.6973\n",
      "Epoch 8/20\n",
      "100/100 [==============================] - 65s - loss: 0.5886 - acc: 0.6869 - val_loss: 0.5619 - val_acc: 0.6961\n",
      "Epoch 9/20\n",
      "100/100 [==============================] - 65s - loss: 0.5750 - acc: 0.6906 - val_loss: 0.5558 - val_acc: 0.6891\n",
      "Epoch 10/20\n",
      "100/100 [==============================] - 66s - loss: 0.5857 - acc: 0.6906 - val_loss: 0.5566 - val_acc: 0.7017\n",
      "Epoch 11/20\n",
      "100/100 [==============================] - 65s - loss: 0.5722 - acc: 0.7019 - val_loss: 0.5563 - val_acc: 0.7139\n",
      "Epoch 12/20\n",
      "100/100 [==============================] - 64s - loss: 0.5648 - acc: 0.7091 - val_loss: 0.5537 - val_acc: 0.7049\n",
      "Epoch 13/20\n",
      "100/100 [==============================] - 64s - loss: 0.5649 - acc: 0.7041 - val_loss: 0.5319 - val_acc: 0.7474\n",
      "Epoch 14/20\n",
      "100/100 [==============================] - 64s - loss: 0.5560 - acc: 0.7131 - val_loss: 0.5156 - val_acc: 0.7398\n",
      "Epoch 15/20\n",
      "100/100 [==============================] - 65s - loss: 0.5568 - acc: 0.7044 - val_loss: 0.5211 - val_acc: 0.7379\n",
      "Epoch 16/20\n",
      "100/100 [==============================] - 66s - loss: 0.5336 - acc: 0.7278 - val_loss: 0.5337 - val_acc: 0.7367\n",
      "Epoch 17/20\n",
      "100/100 [==============================] - 66s - loss: 0.5467 - acc: 0.7050 - val_loss: 0.5027 - val_acc: 0.7386\n",
      "Epoch 18/20\n",
      "100/100 [==============================] - 65s - loss: 0.5383 - acc: 0.7241 - val_loss: 0.5091 - val_acc: 0.7371\n",
      "Epoch 19/20\n",
      "100/100 [==============================] - 65s - loss: 0.5361 - acc: 0.7275 - val_loss: 0.5186 - val_acc: 0.7300\n",
      "Epoch 20/20\n",
      "100/100 [==============================] - 65s - loss: 0.5365 - acc: 0.7222 - val_loss: 0.5125 - val_acc: 0.7300\n"
     ]
    }
   ],
   "source": [
    "train_datagen = ImageDataGenerator(rescale=1./255,\n",
    "                                   rotation_range=40,\n",
    "                                   width_shift_range=0.2,\n",
    "                                   height_shift_range=0.2,\n",
    "                                   shear_range=0.2,\n",
    "                                   zoom_range=0.2,\n",
    "                                   horizontal_flip=True,)\n",
    "\n",
    "test_datagen = ImageDataGenerator(rescale=1./255)\n",
    "\n",
    "train_generator = train_datagen.flow_from_directory(train_dir,\n",
    "                                                    target_size=(150, 150),\n",
    "                                                    batch_size=32,\n",
    "                                                    class_mode='binary')\n",
    "\n",
    "validation_generator = test_datagen.flow_from_directory(validation_dir,\n",
    "                                                        target_size=(150, 150),\n",
    "                                                        batch_size=32,\n",
    "                                                        class_mode='binary')\n",
    "\n",
    "history = model.fit_generator(train_generator,\n",
    "                              steps_per_epoch=100,\n",
    "                              epochs=20,\n",
    "                              validation_data=validation_generator,\n",
    "                              validation_steps=50)"
   ]
  },
  {
   "cell_type": "code",
   "execution_count": 23,
   "metadata": {},
   "outputs": [
    {
     "data": {
      "image/png": "[encoded data removed]",
      "text/plain": [
       "<Figure size 432x288 with 1 Axes>"
      ]
     },
     "metadata": {},
     "output_type": "display_data"
    },
    {
     "data": {
      "image/png": "[encoded data removed]",
      "text/plain": [
       "<Figure size 432x288 with 1 Axes>"
      ]
     },
     "metadata": {},
     "output_type": "display_data"
    }
   ],
   "source": [
    "import matplotlib.pyplot as plt\n",
    "\n",
    "acc = history.history['acc']\n",
    "val_acc = history.history['val_acc']\n",
    "loss = history.history['loss']\n",
    "val_loss = history.history['val_loss']\n",
    "\n",
    "epochs = range(1, len(acc) + 1)\n",
    "\n",
    "plt.plot(epochs, acc, 'bo', label='Training acc')\n",
    "plt.plot(epochs, val_acc, 'b', label='Validation acc')\n",
    "plt.title('Training and validation accuracy')\n",
    "plt.legend()\n",
    "\n",
    "plt.figure()\n",
    "\n",
    "plt.plot(epochs, loss, 'bo', label='Training loss')\n",
    "plt.plot(epochs, val_loss, 'b', label='Validation loss')\n",
    "plt.title('Training and validation loss')\n",
    "plt.legend()\n",
    "\n",
    "plt.show()"
   ]
  },
  {
   "cell_type": "code",
   "execution_count": null,
   "metadata": {},
   "outputs": [],
   "source": []
  }
 ],
 "metadata": {
  "kernelspec": {
   "display_name": "Python 3",
   "language": "python",
   "name": "python3"
  },
  "language_info": {
   "codemirror_mode": {
    "name": "ipython",
    "version": 3
   },
   "file_extension": ".py",
   "mimetype": "text/x-python",
   "name": "python",
   "nbconvert_exporter": "python",
   "pygments_lexer": "ipython3",
   "version": "3.6.5"
  }
 },
 "nbformat": 4,
 "nbformat_minor": 2
}
